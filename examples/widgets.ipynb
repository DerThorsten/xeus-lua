{
 "cells": [
  {
   "cell_type": "code",
   "execution_count": 3,
   "id": "5d044224-ac2e-4722-b3fb-6d75b13ec366",
   "metadata": {
    "tags": []
   },
   "outputs": [
    {
     "data": {
      "application/vnd.jupyter.widget-view+json": {
       "model_id": "39cfb05c090f4edd9ce7541deba4f431",
       "version_major": 2,
       "version_minor": 0
      },
      "text/plain": [
       "A Jupyter widget"
      ]
     },
     "metadata": {},
     "output_type": "display_data"
    },
    {
     "data": {
      "application/vnd.jupyter.widget-view+json": {
       "model_id": "7ea7e91337a140f39c31bc9089fa179c",
       "version_major": 2,
       "version_minor": 0
      },
      "text/plain": [
       "A Jupyter widget"
      ]
     },
     "metadata": {},
     "output_type": "display_data"
    }
   ],
   "source": [
    "display = require(\"ilua.display\")\n",
    "widgets = require(\"ilua.widgets\")\n",
    "\n",
    "\n",
    "options = {}\n",
    "options.continuous_update = true\n",
    "slider_a = widgets.slider(options)\n",
    "slider_b = widgets.slider(options)\n",
    "hbox = xhbox.new()\n",
    "output = xoutput.new()\n",
    "\n",
    "hbox:add(slider_a:id())\n",
    "hbox:add(slider_b:id())\n",
    "\n",
    "-- slider = widgets.slider({[\"continuous_update\"] = true})\n",
    "display.display(hbox,output)\n",
    "\n",
    "slider.step = 0.5\n",
    "slider.min = 10\n",
    "slider.max = 20\n",
    "slider.value = 15\n",
    "-- slider.continuous_update = true\n",
    "\n",
    "-- register callback\n",
    "slider_a:register_observer(function(value)\n",
    "    --  use output widget to caputre prints   \n",
    "    output:captured(function()\n",
    "       io.write(\"f(x) = x**2; f(\", value ,\")=\", value*value)\n",
    "    end)\n",
    "end)\n"
   ]
  },
  {
   "cell_type": "code",
   "execution_count": 12,
   "id": "be69e205-0c56-44b7-926b-5482d5300a38",
   "metadata": {},
   "outputs": [
    {
     "data": {
      "application/vnd.jupyter.widget-view+json": {
       "model_id": "",
       "version_major": 2,
       "version_minor": 0
      },
      "text/plain": [
       "A Jupyter widget"
      ]
     },
     "metadata": {},
     "output_type": "display_data"
    },
    {
     "data": {
      "application/vnd.jupyter.widget-view+json": {
       "model_id": "",
       "version_major": 2,
       "version_minor": 0
      },
      "text/plain": [
       "A Jupyter widget"
      ]
     },
     "metadata": {},
     "output_type": "display_data"
    }
   ],
   "source": [
    "button = xbutton.new()\n",
    "button.description = \"HELLO\"\n",
    "output = xoutput.new()\n",
    "display.display(button,output)\n",
    "button:on_click(function()\n",
    "    output:captured_call(function()\n",
    "        print(\"clicked\")\n",
    "    end)\n",
    "end)"
   ]
  },
  {
   "cell_type": "code",
   "execution_count": 6,
   "id": "b755c37d-602a-4b46-97ee-8e044f2f2314",
   "metadata": {},
   "outputs": [
    {
     "data": {
      "application/vnd.jupyter.widget-view+json": {
       "model_id": "e51e1ae920f941b2b4511544eb5020f3",
       "version_major": 2,
       "version_minor": 0
      },
      "text/plain": [
       "A Jupyter widget"
      ]
     },
     "metadata": {},
     "output_type": "display_data"
    },
    {
     "data": {
      "application/vnd.jupyter.widget-view+json": {
       "model_id": "788de1db17c14444be9c31714865f759",
       "version_major": 2,
       "version_minor": 0
      },
      "text/plain": [
       "A Jupyter widget"
      ]
     },
     "metadata": {},
     "output_type": "display_data"
    }
   ],
   "source": [
    "display = require(\"ilua.display\")\n",
    "widgets = require(\"ilua.widgets\")\n",
    "\n",
    "output = xoutput.new()\n",
    "button = xbutton.new()\n",
    "button.description = \"HELLO\"\n",
    "slider = xslider.new()\n",
    "color_picker = xcolor_picker.new()\n",
    "audio = xaudio.new()\n",
    "accordion = xaccordion.new()\n",
    "accordion:add(slider:id())\n",
    "accordion:add(button:id())\n",
    "accordion:add(color_picker:id())\n",
    "accordion:add(audio:id())\n",
    "accordion:set_title(0,\"the slider\")\n",
    "accordion:set_title(1,\"the button\")\n",
    "accordion:set_title(2,\"the color_picker\")\n",
    "accordion:set_title(3,\"the audio\")\n",
    "display.display(output,accordion)\n",
    "\n",
    "slider:register_observer(function(value)\n",
    "    --  use output widget to caputre prints   \n",
    "    output:captured(function()\n",
    "       print(\"slider value\", value)\n",
    "    end)\n",
    "end)\n",
    "\n",
    "color_picker:register_observer(function(value)\n",
    "    --  use output widget to caputre prints   \n",
    "    output:captured(function()\n",
    "       print(\"color_picker value\", value)\n",
    "    end)\n",
    "end)\n"
   ]
  }
 ],
 "metadata": {
  "kernelspec": {
   "display_name": "Lua 0.12 (XLua)",
   "language": "lua",
   "name": "xlua"
  },
  "language_info": {
   "file_extension": ".lua",
   "mimetype": "text/x-luasrc",
   "name": "lua",
   "version": "14.0.0"
  }
 },
 "nbformat": 4,
 "nbformat_minor": 5
}
