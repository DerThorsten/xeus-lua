{
 "cells": [
  {
   "cell_type": "code",
   "execution_count": 4,
   "id": "5d044224-ac2e-4722-b3fb-6d75b13ec366",
   "metadata": {
    "tags": []
   },
   "outputs": [
    {
     "data": {
      "application/vnd.jupyter.widget-view+json": {
       "model_id": "7b34894e0cda4146bc1b76ef67881a78",
       "version_major": 2,
       "version_minor": 0
      },
      "text/plain": [
       "A Jupyter widget"
      ]
     },
     "metadata": {},
     "output_type": "display_data"
    },
    {
     "data": {
      "application/vnd.jupyter.widget-view+json": {
       "model_id": "748c7052c809410ab8e16de704734f01",
       "version_major": 2,
       "version_minor": 0
      },
      "text/plain": [
       "A Jupyter widget"
      ]
     },
     "metadata": {},
     "output_type": "display_data"
    }
   ],
   "source": [
    "display = require(\"ilua.display\")\n",
    "widgets = require(\"ilua.widgets\")\n",
    "\n",
    "\n",
    "options = {}\n",
    "options.continuous_update = true\n",
    "slider_a = widgets.slider(options)\n",
    "slider_b = widgets.slider(options)\n",
    "hbox = xhbox.new()\n",
    "output = xoutput.new()\n",
    "\n",
    "hbox:add(slider_a:id())\n",
    "hbox:add(slider_b:id())\n",
    "\n",
    "-- slider = widgets.slider({[\"continuous_update\"] = true})\n",
    "display.display(hbox,output)\n",
    "\n",
    "slider.step = 0.5\n",
    "slider.min = 10\n",
    "slider.max = 20\n",
    "slider.value = 15\n",
    "-- slider.continuous_update = true\n",
    "\n",
    "-- register callback\n",
    "slider_a:register_observer(function(value)\n",
    "    --  use output widget to caputre prints   \n",
    "    output:captured(function()\n",
    "       io.write(\"f(x) = x**2; f(\", value ,\")=\", value*value)\n",
    "    end)\n",
    "end)\n"
   ]
  },
  {
   "cell_type": "code",
   "execution_count": 5,
   "id": "be69e205-0c56-44b7-926b-5482d5300a38",
   "metadata": {},
   "outputs": [
    {
     "data": {
      "application/vnd.jupyter.widget-view+json": {
       "model_id": "eebc9d23544c48b398edb962e1288254",
       "version_major": 2,
       "version_minor": 0
      },
      "text/plain": [
       "A Jupyter widget"
      ]
     },
     "metadata": {},
     "output_type": "display_data"
    },
    {
     "data": {
      "application/vnd.jupyter.widget-view+json": {
       "model_id": "432c3b0e819a40b69c8eaff951fdbca1",
       "version_major": 2,
       "version_minor": 0
      },
      "text/plain": [
       "A Jupyter widget"
      ]
     },
     "metadata": {},
     "output_type": "display_data"
    }
   ],
   "source": [
    "button = xbutton.new()\n",
    "button.description = \"HELLO\"\n",
    "output = xoutput.new()\n",
    "display.display(button,output)\n",
    "button:on_click(function()\n",
    "    output:captured_call(function()\n",
    "        print(\"clicked\")\n",
    "    end)\n",
    "end)"
   ]
  },
  {
   "cell_type": "markdown",
   "id": "98e79948-9aeb-4c31-a7b9-3c6bce6c026f",
   "metadata": {},
   "source": [
    "Accordion\n",
    "================"
   ]
  },
  {
   "cell_type": "code",
   "execution_count": 6,
   "id": "b755c37d-602a-4b46-97ee-8e044f2f2314",
   "metadata": {},
   "outputs": [
    {
     "data": {
      "application/vnd.jupyter.widget-view+json": {
       "model_id": "fec3ea306d7c4396ad80b1a07eb48116",
       "version_major": 2,
       "version_minor": 0
      },
      "text/plain": [
       "A Jupyter widget"
      ]
     },
     "metadata": {},
     "output_type": "display_data"
    },
    {
     "data": {
      "application/vnd.jupyter.widget-view+json": {
       "model_id": "ea1a0b37dff6438fa9e9b51ac4297011",
       "version_major": 2,
       "version_minor": 0
      },
      "text/plain": [
       "A Jupyter widget"
      ]
     },
     "metadata": {},
     "output_type": "display_data"
    }
   ],
   "source": [
    "display = require(\"ilua.display\")\n",
    "widgets = require(\"ilua.widgets\")\n",
    "\n",
    "output = xoutput.new()\n",
    "button = xbutton.new()\n",
    "button.description = \"HELLO\"\n",
    "slider = xslider.new()\n",
    "color_picker = xcolor_picker.new()\n",
    "audio = xaudio.new()\n",
    "accordion = xaccordion.new()\n",
    "accordion:add(slider:id())\n",
    "accordion:add(button:id())\n",
    "accordion:add(color_picker:id())\n",
    "accordion:add(audio:id())\n",
    "accordion:set_title(1,\"the slider\")\n",
    "accordion:set_title(2,\"the button\")\n",
    "accordion:set_title(3,\"the color_picker\")\n",
    "accordion:set_title(4,\"the audio\")\n",
    "display.display(output,accordion)\n",
    "\n",
    "slider:register_observer(function(value)\n",
    "    --  use output widget to caputre prints   \n",
    "    output:captured(function()\n",
    "       print(\"slider value\", value)\n",
    "    end)\n",
    "end)\n",
    "\n",
    "color_picker:register_observer(function(value)\n",
    "    --  use output widget to caputre prints   \n",
    "    output:captured(function()\n",
    "       print(\"color_picker value\", value)\n",
    "    end)\n",
    "end)\n"
   ]
  },
  {
   "cell_type": "markdown",
   "id": "097d19f7-a0c9-48a9-8eff-6e3e06780c88",
   "metadata": {
    "tags": []
   },
   "source": [
    "Dropdown\n",
    "========="
   ]
  },
  {
   "cell_type": "code",
   "execution_count": 7,
   "id": "95e12c50-4e77-457c-b2c2-6d20421a3bea",
   "metadata": {},
   "outputs": [
    {
     "data": {
      "application/vnd.jupyter.widget-view+json": {
       "model_id": "4cd4afea76e54a33be90188f268b97d3",
       "version_major": 2,
       "version_minor": 0
      },
      "text/plain": [
       "A Jupyter widget"
      ]
     },
     "metadata": {},
     "output_type": "display_data"
    },
    {
     "data": {
      "application/vnd.jupyter.widget-view+json": {
       "model_id": "d0e5e5547ef04051aff4333be4a36a4f",
       "version_major": 2,
       "version_minor": 0
      },
      "text/plain": [
       "A Jupyter widget"
      ]
     },
     "metadata": {},
     "output_type": "display_data"
    }
   ],
   "source": [
    "display = require(\"ilua.display\")\n",
    "widgets = require(\"ilua.widgets\")\n",
    "\n",
    "dropdown = xdropdown.new()\n",
    "output = xoutput.new()\n",
    "dropdown._options_labels = {\"aaa\", \"bb\",\"cc\"}\n",
    "dropdown:register_observer(function(index)\n",
    "    --  use output widget to caputre prints   \n",
    "    output:captured(function()\n",
    "       print(\"index\", index)\n",
    "    end)\n",
    "end)\n",
    "\n",
    "display.display(dropdown, output)"
   ]
  },
  {
   "cell_type": "markdown",
   "id": "ca362331-bd0c-4203-9a6f-dc937d309297",
   "metadata": {},
   "source": [
    "Html\n",
    "======="
   ]
  },
  {
   "cell_type": "code",
   "execution_count": 8,
   "id": "abc66753-53ba-4361-96a6-48cd9460c8e3",
   "metadata": {
    "tags": []
   },
   "outputs": [
    {
     "data": {
      "application/vnd.jupyter.widget-view+json": {
       "model_id": "5848ff689a524e39b2bba471c62403e4",
       "version_major": 2,
       "version_minor": 0
      },
      "text/plain": [
       "A Jupyter widget"
      ]
     },
     "metadata": {},
     "output_type": "display_data"
    }
   ],
   "source": [
    "display = require(\"ilua.display\")\n",
    "widgets = require(\"ilua.widgets\")\n",
    "\n",
    "html = xhtml.new()\n",
    "src = [[\n",
    "<!DOCTYPE html>\n",
    "<html>\n",
    "    <head>\n",
    "    </head>\n",
    "    <body>\n",
    "        <h1>My First Page</h1>\n",
    "        <p>This is my first page.</p>\n",
    "        <h2>A secondary header.</h2>\n",
    "        <p>Some more text.</p>\n",
    "    </body>\n",
    "</html>\n",
    "]]\n",
    "html.value = src\n",
    "display.display(html)"
   ]
  },
  {
   "cell_type": "markdown",
   "id": "e8eeacfe-350a-4ecb-81a9-c8091af3c22e",
   "metadata": {
    "tags": []
   },
   "source": [
    "numeral\n",
    "========"
   ]
  },
  {
   "cell_type": "code",
   "execution_count": 9,
   "id": "9c177cfe-2613-43a3-a217-d93bc257420e",
   "metadata": {},
   "outputs": [
    {
     "data": {
      "application/vnd.jupyter.widget-view+json": {
       "model_id": "cf56b5ac1ced41be8b93f0128a1b2060",
       "version_major": 2,
       "version_minor": 0
      },
      "text/plain": [
       "A Jupyter widget"
      ]
     },
     "metadata": {},
     "output_type": "display_data"
    },
    {
     "data": {
      "application/vnd.jupyter.widget-view+json": {
       "model_id": "09614e4d6a90426b9f0a6e7846f72123",
       "version_major": 2,
       "version_minor": 0
      },
      "text/plain": [
       "A Jupyter widget"
      ]
     },
     "metadata": {},
     "output_type": "display_data"
    }
   ],
   "source": [
    "display = require(\"ilua.display\")\n",
    "widgets = require(\"ilua.widgets\")\n",
    "\n",
    "numeral = xnumeral.new()\n",
    "output = xoutput.new()\n",
    "numeral:register_observer(function(value)\n",
    "    --  use output widget to caputre prints   \n",
    "    output:captured(function()\n",
    "       print(\"value\", value)\n",
    "    end)\n",
    "end)\n",
    "\n",
    "display.display(numeral, output)"
   ]
  },
  {
   "cell_type": "markdown",
   "id": "9fede355-2e4f-48c9-b39b-1886e060ce8b",
   "metadata": {},
   "source": [
    "password\n",
    "========"
   ]
  },
  {
   "cell_type": "code",
   "execution_count": 10,
   "id": "455996cf-9b63-4d50-869a-0f479ab3daf4",
   "metadata": {},
   "outputs": [
    {
     "data": {
      "application/vnd.jupyter.widget-view+json": {
       "model_id": "7b9a46acbdc14e1ea59c271bc041fc1b",
       "version_major": 2,
       "version_minor": 0
      },
      "text/plain": [
       "A Jupyter widget"
      ]
     },
     "metadata": {},
     "output_type": "display_data"
    },
    {
     "data": {
      "application/vnd.jupyter.widget-view+json": {
       "model_id": "cb608460b4ee4f96ac89959afe850f32",
       "version_major": 2,
       "version_minor": 0
      },
      "text/plain": [
       "A Jupyter widget"
      ]
     },
     "metadata": {},
     "output_type": "display_data"
    }
   ],
   "source": [
    "display = require(\"ilua.display\")\n",
    "widgets = require(\"ilua.widgets\")\n",
    "\n",
    "password = xpassword.new()\n",
    "output = xoutput.new()\n",
    "password:register_observer(function(value)\n",
    "    --  use output widget to caputre prints   \n",
    "    output:captured(function()\n",
    "       print(\"value\", value)\n",
    "    end)\n",
    "end)\n",
    "\n",
    "display.display(password, output)"
   ]
  },
  {
   "cell_type": "markdown",
   "id": "6306ce8e-37d3-4dbc-a8cf-955b2dfe684c",
   "metadata": {},
   "source": [
    "play\n",
    "====="
   ]
  },
  {
   "cell_type": "code",
   "execution_count": 11,
   "id": "986147ab-c9de-4ad9-b8be-f65260dd815d",
   "metadata": {},
   "outputs": [
    {
     "data": {
      "application/vnd.jupyter.widget-view+json": {
       "model_id": "46161aa292d2421a917c351797379cfc",
       "version_major": 2,
       "version_minor": 0
      },
      "text/plain": [
       "A Jupyter widget"
      ]
     },
     "metadata": {},
     "output_type": "display_data"
    },
    {
     "data": {
      "application/vnd.jupyter.widget-view+json": {
       "model_id": "be54b63caae44932a45e6dfb9d293e29",
       "version_major": 2,
       "version_minor": 0
      },
      "text/plain": [
       "A Jupyter widget"
      ]
     },
     "metadata": {},
     "output_type": "display_data"
    }
   ],
   "source": [
    "display = require(\"ilua.display\")\n",
    "widgets = require(\"ilua.widgets\")\n",
    "\n",
    "play = xplay.new()\n",
    "play.interval = 1000\n",
    "output = xoutput.new()\n",
    "play:register_observer(function(value)\n",
    "    --  use output widget to caputre prints   \n",
    "    output:captured(function()\n",
    "       print(\"value\", value)\n",
    "    end)\n",
    "end)\n",
    "\n",
    "display.display(play, output)"
   ]
  },
  {
   "cell_type": "markdown",
   "id": "4e03ccf2-3a10-40d6-8273-168a91f3d9a7",
   "metadata": {},
   "source": [
    "progress\n",
    "========="
   ]
  },
  {
   "cell_type": "code",
   "execution_count": 12,
   "id": "a4f194ee-0995-44f3-8636-b629bd5b65ba",
   "metadata": {},
   "outputs": [
    {
     "data": {
      "application/vnd.jupyter.widget-view+json": {
       "model_id": "6583537fa25b4becb787d4c88805033c",
       "version_major": 2,
       "version_minor": 0
      },
      "text/plain": [
       "A Jupyter widget"
      ]
     },
     "metadata": {},
     "output_type": "display_data"
    },
    {
     "data": {
      "application/vnd.jupyter.widget-view+json": {
       "model_id": "d7f2e5d29865476ca010f5601efb18bc",
       "version_major": 2,
       "version_minor": 0
      },
      "text/plain": [
       "A Jupyter widget"
      ]
     },
     "metadata": {},
     "output_type": "display_data"
    },
    {
     "data": {
      "application/vnd.jupyter.widget-view+json": {
       "model_id": "14d959c8e93c4ed49aba831bd8c2164d",
       "version_major": 2,
       "version_minor": 0
      },
      "text/plain": [
       "A Jupyter widget"
      ]
     },
     "metadata": {},
     "output_type": "display_data"
    }
   ],
   "source": [
    "display = require(\"ilua.display\")\n",
    "widgets = require(\"ilua.widgets\")\n",
    "\n",
    "progress = xprogress.new()\n",
    "progress.value = 0\n",
    "\n",
    "play = xplay.new()\n",
    "play.interval = 100\n",
    "\n",
    "output = xoutput.new()\n",
    "progress:register_observer(function(value)\n",
    "    output:captured(function()\n",
    "    end)\n",
    "end)\n",
    "play:register_observer(function(value)\n",
    "    output:captured(function()\n",
    "       progress.value = value\n",
    "    end)\n",
    "end)\n",
    "display.display(play, progress, output)"
   ]
  },
  {
   "cell_type": "markdown",
   "id": "39714034-99f4-4f36-b50f-33aa3f71d2a6",
   "metadata": {},
   "source": [
    "Selection Slider\n",
    "================="
   ]
  },
  {
   "cell_type": "code",
   "execution_count": 13,
   "id": "7f6aab9e-b3ce-4df9-83a6-94eb725aceb0",
   "metadata": {},
   "outputs": [
    {
     "data": {
      "application/vnd.jupyter.widget-view+json": {
       "model_id": "ffbd54c684cf42c0aea8c424faac16f0",
       "version_major": 2,
       "version_minor": 0
      },
      "text/plain": [
       "A Jupyter widget"
      ]
     },
     "metadata": {},
     "output_type": "display_data"
    },
    {
     "data": {
      "application/vnd.jupyter.widget-view+json": {
       "model_id": "6979f69e17584940a1865826217165d9",
       "version_major": 2,
       "version_minor": 0
      },
      "text/plain": [
       "A Jupyter widget"
      ]
     },
     "metadata": {},
     "output_type": "display_data"
    }
   ],
   "source": [
    "display = require(\"ilua.display\")\n",
    "widgets = require(\"ilua.widgets\")\n",
    "\n",
    "selectionslider = xselectionslider.new()\n",
    "output = xoutput.new()\n",
    "selectionslider._options_labels = {\"aaa\", \"bb\",\"cc\"}\n",
    "selectionslider:register_observer(function(index)\n",
    "    --  use output widget to caputre prints   \n",
    "    output:captured(function()\n",
    "       print(\"index\", index)\n",
    "    end)\n",
    "end)\n",
    "\n",
    "display.display(selectionslider, output)"
   ]
  },
  {
   "cell_type": "markdown",
   "id": "45d72396-3fcc-421e-865e-487d93b333b8",
   "metadata": {},
   "source": [
    "Tab\n",
    "======"
   ]
  },
  {
   "cell_type": "code",
   "execution_count": null,
   "id": "6d0684e8-62a2-4483-995a-70d7cc2783ac",
   "metadata": {},
   "outputs": [],
   "source": [
    "display = require(\"ilua.display\")\n",
    "widgets = require(\"ilua.widgets\")\n",
    "\n",
    "\n",
    "options = {}\n",
    "slider_a = xslider.new()\n",
    "slider_b = xslider.new()\n",
    "tab = xtab.new()\n",
    "tab._titles = {\"aaa\", \"bb\",\"cc\"}\n",
    "output = xoutput.new()\n",
    "\n",
    "tab:add(slider_a:id())\n",
    "tab:add(slider_b:id())\n",
    "\n",
    "\n",
    "tab:register_observer(function(index)\n",
    "    --  use output widget to caputre prints   \n",
    "    output:captured(function()\n",
    "       print(\"tab index\", index)\n",
    "    end)\n",
    "end)\n",
    "\n",
    "-- slider = widgets.slider({[\"continuous_update\"] = true})\n",
    "display.display(tab,output)\n",
    "\n"
   ]
  },
  {
   "cell_type": "markdown",
   "id": "7f9f85de-a5b8-4e60-9eff-33b25d819ec9",
   "metadata": {},
   "source": [
    "Text\n",
    "====="
   ]
  },
  {
   "cell_type": "code",
   "execution_count": null,
   "id": "893e92ad-eff2-4adb-ba82-71a9ed2cfe9e",
   "metadata": {},
   "outputs": [],
   "source": [
    "display = require(\"ilua.display\")\n",
    "widgets = require(\"ilua.widgets\")\n",
    "\n",
    "text = xtext.new()\n",
    "output = xoutput.new()\n",
    "text:register_observer(function(value)\n",
    "    output:captured(function()\n",
    "       print(\"value\", value)\n",
    "    end)\n",
    "end)\n",
    "\n",
    "text:on_submit(function()\n",
    "    output:captured(function()\n",
    "       print(\"on_submit\")\n",
    "    end)\n",
    "end)\n",
    "\n",
    "display.display(text, output)"
   ]
  },
  {
   "cell_type": "markdown",
   "id": "94572d62-12ea-4026-a531-d0e7bc5b20b9",
   "metadata": {},
   "source": [
    "TextArea\n",
    "========="
   ]
  },
  {
   "cell_type": "code",
   "execution_count": null,
   "id": "1e76b56f-f087-49f8-a50e-eb794060c63c",
   "metadata": {},
   "outputs": [],
   "source": [
    "display = require(\"ilua.display\")\n",
    "widgets = require(\"ilua.widgets\")\n",
    "\n",
    "textarea = xtextarea.new()\n",
    "textarea.continuous_update = false\n",
    "output = xoutput.new()\n",
    "textarea:register_observer(function(value)\n",
    "    output:captured(function()\n",
    "       print(\"value\", value)\n",
    "    end)\n",
    "end)\n",
    "\n",
    "\n",
    "display.display(textarea, output)"
   ]
  },
  {
   "cell_type": "markdown",
   "id": "68011d67-ac8c-43ff-bae9-4caf95273f98",
   "metadata": {},
   "source": [
    "Toggle Button\n",
    "========="
   ]
  },
  {
   "cell_type": "code",
   "execution_count": null,
   "id": "cf780275-b2de-48d4-bb2e-3f38e8c45bcd",
   "metadata": {
    "tags": []
   },
   "outputs": [],
   "source": [
    "display = require(\"ilua.display\")\n",
    "widgets = require(\"ilua.widgets\")\n",
    "\n",
    "togglebutton = xtogglebutton.new()\n",
    "togglebutton.button_style = \"success\"\n",
    "output = xoutput.new()\n",
    "togglebutton:register_observer(function(value)\n",
    "    output:captured(function()\n",
    "       print(\"value\", value)\n",
    "    end)\n",
    "end)\n",
    "\n",
    "display.display(togglebutton, output)"
   ]
  },
  {
   "cell_type": "markdown",
   "id": "1bc5c504-cf9c-432f-a91c-2497910d787b",
   "metadata": {},
   "source": [
    "ToggleButtons\n",
    "========="
   ]
  },
  {
   "cell_type": "code",
   "execution_count": null,
   "id": "f764f285-d71f-4c93-92b4-923484846b0c",
   "metadata": {},
   "outputs": [],
   "source": [
    "display = require(\"ilua.display\")\n",
    "widgets = require(\"ilua.widgets\")\n",
    "\n",
    "togglebuttons = xtogglebuttons.new()\n",
    "togglebuttons._options_labels = {\"1\", \"2\",\"3\"}\n",
    "output = xoutput.new()\n",
    "togglebuttons:register_observer(function(value)\n",
    "    output:captured(function()\n",
    "       print(\"value\", value)\n",
    "    end)\n",
    "end)\n",
    "\n",
    "display.display(togglebuttons, output)"
   ]
  },
  {
   "cell_type": "markdown",
   "id": "ee4e079c-0101-49a9-94f6-2d7e73ad3f59",
   "metadata": {},
   "source": [
    "Video\n",
    "========"
   ]
  },
  {
   "cell_type": "code",
   "execution_count": null,
   "id": "654c050a-3cff-48d2-b7a1-d8f6acfe042a",
   "metadata": {},
   "outputs": [],
   "source": [
    "display = require(\"ilua.display\")\n",
    "widgets = require(\"ilua.widgets\")\n",
    "\n",
    "video = xvideo.new()\n",
    "display.display(video)"
   ]
  },
  {
   "cell_type": "markdown",
   "id": "2aee848b-a3e6-4ce3-9d2d-8650871bb225",
   "metadata": {},
   "source": [
    "Valid\n",
    "======"
   ]
  },
  {
   "cell_type": "code",
   "execution_count": 1,
   "id": "ef2ae714-2077-4767-9c24-af821fbc2c9d",
   "metadata": {},
   "outputs": [
    {
     "data": {
      "application/vnd.jupyter.widget-view+json": {
       "model_id": "548db6b9871c45f680058f1c5337aa77",
       "version_major": 2,
       "version_minor": 0
      },
      "text/plain": [
       "A Jupyter widget"
      ]
     },
     "metadata": {},
     "output_type": "display_data"
    }
   ],
   "source": [
    "display = require(\"ilua.display\")\n",
    "widgets = require(\"ilua.widgets\")\n",
    "\n",
    "valid = xvalid.new()\n",
    "valid.value = true\n",
    "display.display(valid)"
   ]
  },
  {
   "cell_type": "markdown",
   "id": "96b64ffe-ac69-4b0e-9299-0a54842a77c1",
   "metadata": {},
   "source": [
    "Link Widgets\n",
    "============"
   ]
  },
  {
   "cell_type": "code",
   "execution_count": 3,
   "id": "191675ca-c53e-4c83-a0cf-8dcd78b02fae",
   "metadata": {},
   "outputs": [
    {
     "data": {
      "application/vnd.jupyter.widget-view+json": {
       "model_id": "f073c0cf47054069b1ad05c8268cc920",
       "version_major": 2,
       "version_minor": 0
      },
      "text/plain": [
       "A Jupyter widget"
      ]
     },
     "metadata": {},
     "output_type": "display_data"
    },
    {
     "data": {
      "application/vnd.jupyter.widget-view+json": {
       "model_id": "e4f47123ea3c4ed681bdfb4e64f0398a",
       "version_major": 2,
       "version_minor": 0
      },
      "text/plain": [
       "A Jupyter widget"
      ]
     },
     "metadata": {},
     "output_type": "display_data"
    },
    {
     "data": {
      "application/vnd.jupyter.widget-view+json": {
       "model_id": "a05e770a3d13442784d569383979b7fd",
       "version_major": 2,
       "version_minor": 0
      },
      "text/plain": [
       "A Jupyter widget"
      ]
     },
     "metadata": {},
     "output_type": "display_data"
    }
   ],
   "source": [
    "display = require(\"ilua.display\")\n",
    "widgets = require(\"ilua.widgets\")\n",
    "\n",
    "slider = xslider.new()\n",
    "numeral = xnumeral.new()\n",
    "\n",
    "link = xlink.new(slider:id(), \"value\", numeral:id(), \"value\")\n",
    "display.display(link, slider, numeral)"
   ]
  },
  {
   "cell_type": "markdown",
   "id": "3d54b0cc-7f2f-4ad7-92a8-9f61abe989f9",
   "metadata": {},
   "source": [
    "Directional Link\n",
    "==================="
   ]
  },
  {
   "cell_type": "code",
   "execution_count": 1,
   "id": "21499154-6da9-4a4a-a6ce-7637916d26c6",
   "metadata": {},
   "outputs": [
    {
     "data": {
      "application/vnd.jupyter.widget-view+json": {
       "model_id": "e957a26501e54680851e3fd79085e80c",
       "version_major": 2,
       "version_minor": 0
      },
      "text/plain": [
       "A Jupyter widget"
      ]
     },
     "metadata": {},
     "output_type": "display_data"
    },
    {
     "data": {
      "application/vnd.jupyter.widget-view+json": {
       "model_id": "9f96739811944aaeb65aba6d4c367059",
       "version_major": 2,
       "version_minor": 0
      },
      "text/plain": [
       "A Jupyter widget"
      ]
     },
     "metadata": {},
     "output_type": "display_data"
    },
    {
     "data": {
      "application/vnd.jupyter.widget-view+json": {
       "model_id": "497c38e37c38443db21a25e3283192e8",
       "version_major": 2,
       "version_minor": 0
      },
      "text/plain": [
       "A Jupyter widget"
      ]
     },
     "metadata": {},
     "output_type": "display_data"
    }
   ],
   "source": [
    "display = require(\"ilua.display\")\n",
    "widgets = require(\"ilua.widgets\")\n",
    "\n",
    "slider = xslider.new()\n",
    "numeral = xnumeral.new()\n",
    "\n",
    "link = xdirectional_link.new(slider:id(), \"value\", numeral:id(), \"value\")\n",
    "display.display(link, slider, numeral)"
   ]
  }
 ],
 "metadata": {
  "kernelspec": {
   "display_name": "Lua 0.12 (XLua)",
   "language": "lua",
   "name": "xlua"
  },
  "language_info": {
   "file_extension": ".lua",
   "mimetype": "text/x-luasrc",
   "name": "lua",
   "version": "14.0.0"
  }
 },
 "nbformat": 4,
 "nbformat_minor": 5
}
