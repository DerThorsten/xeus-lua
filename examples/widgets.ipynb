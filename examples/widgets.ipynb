{
 "cells": [
  {
   "cell_type": "code",
   "execution_count": null,
   "id": "5d044224-ac2e-4722-b3fb-6d75b13ec366",
   "metadata": {
    "tags": []
   },
   "outputs": [],
   "source": [
    "display = require(\"ilua.display\")\n",
    "widgets = require(\"ilua.widgets\")\n",
    "\n",
    "\n",
    "options = {}\n",
    "options.continuous_update = true\n",
    "slider_a = widgets.slider(options)\n",
    "slider_b = widgets.slider(options)\n",
    "hbox = xhbox.new()\n",
    "output = xoutput.new()\n",
    "\n",
    "hbox:add(slider_a:id())\n",
    "hbox:add(slider_b:id())\n",
    "\n",
    "-- slider = widgets.slider({[\"continuous_update\"] = true})\n",
    "display.display(hbox,output)\n",
    "\n",
    "slider.step = 0.5\n",
    "slider.min = 10\n",
    "slider.max = 20\n",
    "slider.value = 15\n",
    "-- slider.continuous_update = true\n",
    "\n",
    "-- register callback\n",
    "slider_a:register_observer(function(value)\n",
    "    --  use output widget to caputre prints   \n",
    "    output:captured(function()\n",
    "       io.write(\"f(x) = x**2; f(\", value ,\")=\", value*value)\n",
    "    end)\n",
    "end)\n"
   ]
  },
  {
   "cell_type": "code",
   "execution_count": null,
   "id": "be69e205-0c56-44b7-926b-5482d5300a38",
   "metadata": {},
   "outputs": [],
   "source": [
    "button = xbutton.new()\n",
    "button.description = \"HELLO\"\n",
    "output = xoutput.new()\n",
    "display.display(button,output)\n",
    "button:on_click(function()\n",
    "    output:captured_call(function()\n",
    "        print(\"clicked\")\n",
    "    end)\n",
    "end)"
   ]
  },
  {
   "cell_type": "markdown",
   "id": "98e79948-9aeb-4c31-a7b9-3c6bce6c026f",
   "metadata": {},
   "source": [
    "Accordion\n",
    "================"
   ]
  },
  {
   "cell_type": "code",
   "execution_count": null,
   "id": "b755c37d-602a-4b46-97ee-8e044f2f2314",
   "metadata": {},
   "outputs": [],
   "source": [
    "display = require(\"ilua.display\")\n",
    "widgets = require(\"ilua.widgets\")\n",
    "\n",
    "output = xoutput.new()\n",
    "button = xbutton.new()\n",
    "button.description = \"HELLO\"\n",
    "slider = xslider.new()\n",
    "color_picker = xcolor_picker.new()\n",
    "audio = xaudio.new()\n",
    "accordion = xaccordion.new()\n",
    "accordion:add(slider:id())\n",
    "accordion:add(button:id())\n",
    "accordion:add(color_picker:id())\n",
    "accordion:add(audio:id())\n",
    "accordion:set_title(0,\"the slider\")\n",
    "accordion:set_title(1,\"the button\")\n",
    "accordion:set_title(2,\"the color_picker\")\n",
    "accordion:set_title(3,\"the audio\")\n",
    "display.display(output,accordion)\n",
    "\n",
    "slider:register_observer(function(value)\n",
    "    --  use output widget to caputre prints   \n",
    "    output:captured(function()\n",
    "       print(\"slider value\", value)\n",
    "    end)\n",
    "end)\n",
    "\n",
    "color_picker:register_observer(function(value)\n",
    "    --  use output widget to caputre prints   \n",
    "    output:captured(function()\n",
    "       print(\"color_picker value\", value)\n",
    "    end)\n",
    "end)\n"
   ]
  },
  {
   "cell_type": "markdown",
   "id": "097d19f7-a0c9-48a9-8eff-6e3e06780c88",
   "metadata": {
    "tags": []
   },
   "source": [
    "Dropdown\n",
    "========="
   ]
  },
  {
   "cell_type": "code",
   "execution_count": null,
   "id": "95e12c50-4e77-457c-b2c2-6d20421a3bea",
   "metadata": {},
   "outputs": [],
   "source": [
    "display = require(\"ilua.display\")\n",
    "widgets = require(\"ilua.widgets\")\n",
    "\n",
    "dropdown = xdropdown.new()\n",
    "output = xoutput.new()\n",
    "dropdown._options_labels = {\"aaa\", \"bb\",\"cc\"}\n",
    "dropdown:register_observer(function(index)\n",
    "    --  use output widget to caputre prints   \n",
    "    output:captured(function()\n",
    "       print(\"index\", index)\n",
    "    end)\n",
    "end)\n",
    "\n",
    "display.display(dropdown, output)"
   ]
  },
  {
   "cell_type": "markdown",
   "id": "ca362331-bd0c-4203-9a6f-dc937d309297",
   "metadata": {},
   "source": [
    "Html\n",
    "======="
   ]
  },
  {
   "cell_type": "code",
   "execution_count": null,
   "id": "abc66753-53ba-4361-96a6-48cd9460c8e3",
   "metadata": {
    "jupyter": {
     "source_hidden": true
    },
    "tags": []
   },
   "outputs": [],
   "source": [
    "display = require(\"ilua.display\")\n",
    "widgets = require(\"ilua.widgets\")\n",
    "\n",
    "html = xhtml.new()\n",
    "src = [[\n",
    "<!DOCTYPE html>\n",
    "<html>\n",
    "    <head>\n",
    "    </head>\n",
    "    <body>\n",
    "        <h1>My First Page</h1>\n",
    "        <p>This is my first page.</p>\n",
    "        <h2>A secondary header.</h2>\n",
    "        <p>Some more text.</p>\n",
    "    </body>\n",
    "</html>\n",
    "]]\n",
    "html.value = src\n",
    "display.display(html)"
   ]
  },
  {
   "cell_type": "markdown",
   "id": "e8eeacfe-350a-4ecb-81a9-c8091af3c22e",
   "metadata": {
    "tags": []
   },
   "source": [
    "numeral\n",
    "========"
   ]
  },
  {
   "cell_type": "code",
   "execution_count": null,
   "id": "9c177cfe-2613-43a3-a217-d93bc257420e",
   "metadata": {},
   "outputs": [],
   "source": [
    "display = require(\"ilua.display\")\n",
    "widgets = require(\"ilua.widgets\")\n",
    "\n",
    "numeral = xnumeral.new()\n",
    "output = xoutput.new()\n",
    "numeral:register_observer(function(value)\n",
    "    --  use output widget to caputre prints   \n",
    "    output:captured(function()\n",
    "       print(\"value\", value)\n",
    "    end)\n",
    "end)\n",
    "\n",
    "display.display(numeral, output)"
   ]
  },
  {
   "cell_type": "markdown",
   "id": "9fede355-2e4f-48c9-b39b-1886e060ce8b",
   "metadata": {},
   "source": [
    "password\n",
    "========"
   ]
  },
  {
   "cell_type": "code",
   "execution_count": null,
   "id": "455996cf-9b63-4d50-869a-0f479ab3daf4",
   "metadata": {},
   "outputs": [],
   "source": [
    "display = require(\"ilua.display\")\n",
    "widgets = require(\"ilua.widgets\")\n",
    "\n",
    "password = xpassword.new()\n",
    "output = xoutput.new()\n",
    "password:register_observer(function(value)\n",
    "    --  use output widget to caputre prints   \n",
    "    output:captured(function()\n",
    "       print(\"value\", value)\n",
    "    end)\n",
    "end)\n",
    "\n",
    "display.display(password, output)"
   ]
  },
  {
   "cell_type": "markdown",
   "id": "6306ce8e-37d3-4dbc-a8cf-955b2dfe684c",
   "metadata": {},
   "source": [
    "play\n",
    "====="
   ]
  },
  {
   "cell_type": "code",
   "execution_count": 1,
   "id": "986147ab-c9de-4ad9-b8be-f65260dd815d",
   "metadata": {},
   "outputs": [
    {
     "data": {
      "application/vnd.jupyter.widget-view+json": {
       "model_id": "2b4d2da83a6c409aa2d2c4a95909d2bb",
       "version_major": 2,
       "version_minor": 0
      },
      "text/plain": [
       "A Jupyter widget"
      ]
     },
     "metadata": {},
     "output_type": "display_data"
    },
    {
     "data": {
      "application/vnd.jupyter.widget-view+json": {
       "model_id": "9c95fe9317074ed98e2593e41313ebe9",
       "version_major": 2,
       "version_minor": 0
      },
      "text/plain": [
       "A Jupyter widget"
      ]
     },
     "metadata": {},
     "output_type": "display_data"
    }
   ],
   "source": [
    "display = require(\"ilua.display\")\n",
    "widgets = require(\"ilua.widgets\")\n",
    "\n",
    "play = xplay.new()\n",
    "play.interval = 1000\n",
    "output = xoutput.new()\n",
    "play:register_observer(function(value)\n",
    "    --  use output widget to caputre prints   \n",
    "    output:captured(function()\n",
    "       print(\"value\", value)\n",
    "    end)\n",
    "end)\n",
    "\n",
    "display.display(play, output)"
   ]
  }
 ],
 "metadata": {
  "kernelspec": {
   "display_name": "Lua 0.12 (XLua)",
   "language": "lua",
   "name": "xlua"
  },
  "language_info": {
   "file_extension": ".lua",
   "mimetype": "text/x-luasrc",
   "name": "lua",
   "version": "14.0.0"
  }
 },
 "nbformat": 4,
 "nbformat_minor": 5
}
