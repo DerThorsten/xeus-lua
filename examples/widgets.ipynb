{
 "cells": [
  {
   "cell_type": "code",
   "execution_count": null,
   "id": "5d044224-ac2e-4722-b3fb-6d75b13ec366",
   "metadata": {
    "tags": []
   },
   "outputs": [],
   "source": [
    "display = require(\"ilua.display\")\n",
    "widgets = require(\"ilua.widgets\")\n",
    "\n",
    "\n",
    "options = {}\n",
    "options.continuous_update = true\n",
    "slider_a = widgets.slider(options)\n",
    "slider_b = widgets.slider(options)\n",
    "hbox = xhbox.new()\n",
    "output = xoutput.new()\n",
    "\n",
    "hbox:add(slider_a:id())\n",
    "hbox:add(slider_b:id())\n",
    "\n",
    "-- slider = widgets.slider({[\"continuous_update\"] = true})\n",
    "display.display(hbox,output)\n",
    "\n",
    "slider.step = 0.5\n",
    "slider.min = 10\n",
    "slider.max = 20\n",
    "slider.value = 15\n",
    "-- slider.continuous_update = true\n",
    "\n",
    "-- register callback\n",
    "slider_a:register_observer(function(value)\n",
    "    --  use output widget to caputre prints   \n",
    "    output:captured(function()\n",
    "       io.write(\"f(x) = x**2; f(\", value ,\")=\", value*value)\n",
    "    end)\n",
    "end)\n"
   ]
  },
  {
   "cell_type": "code",
   "execution_count": null,
   "id": "be69e205-0c56-44b7-926b-5482d5300a38",
   "metadata": {},
   "outputs": [],
   "source": [
    "button = xbutton.new()\n",
    "button.description = \"HELLO\"\n",
    "output = xoutput.new()\n",
    "display.display(button,output)\n",
    "button:on_click(function()\n",
    "    output:captured_call(function()\n",
    "        print(\"clicked\")\n",
    "    end)\n",
    "end)"
   ]
  },
  {
   "cell_type": "markdown",
   "id": "98e79948-9aeb-4c31-a7b9-3c6bce6c026f",
   "metadata": {},
   "source": [
    "Accordion\n",
    "================"
   ]
  },
  {
   "cell_type": "code",
   "execution_count": null,
   "id": "b755c37d-602a-4b46-97ee-8e044f2f2314",
   "metadata": {},
   "outputs": [],
   "source": [
    "display = require(\"ilua.display\")\n",
    "widgets = require(\"ilua.widgets\")\n",
    "\n",
    "output = xoutput.new()\n",
    "button = xbutton.new()\n",
    "button.description = \"HELLO\"\n",
    "slider = xslider.new()\n",
    "color_picker = xcolor_picker.new()\n",
    "audio = xaudio.new()\n",
    "accordion = xaccordion.new()\n",
    "accordion:add(slider:id())\n",
    "accordion:add(button:id())\n",
    "accordion:add(color_picker:id())\n",
    "accordion:add(audio:id())\n",
    "accordion:set_title(0,\"the slider\")\n",
    "accordion:set_title(1,\"the button\")\n",
    "accordion:set_title(2,\"the color_picker\")\n",
    "accordion:set_title(3,\"the audio\")\n",
    "display.display(output,accordion)\n",
    "\n",
    "slider:register_observer(function(value)\n",
    "    --  use output widget to caputre prints   \n",
    "    output:captured(function()\n",
    "       print(\"slider value\", value)\n",
    "    end)\n",
    "end)\n",
    "\n",
    "color_picker:register_observer(function(value)\n",
    "    --  use output widget to caputre prints   \n",
    "    output:captured(function()\n",
    "       print(\"color_picker value\", value)\n",
    "    end)\n",
    "end)\n"
   ]
  },
  {
   "cell_type": "markdown",
   "id": "097d19f7-a0c9-48a9-8eff-6e3e06780c88",
   "metadata": {
    "tags": []
   },
   "source": [
    "Dropdown\n",
    "========="
   ]
  },
  {
   "cell_type": "code",
   "execution_count": null,
   "id": "95e12c50-4e77-457c-b2c2-6d20421a3bea",
   "metadata": {},
   "outputs": [],
   "source": [
    "display = require(\"ilua.display\")\n",
    "widgets = require(\"ilua.widgets\")\n",
    "\n",
    "dropdown = xdropdown.new()\n",
    "output = xoutput.new()\n",
    "dropdown._options_labels = {\"aaa\", \"bb\",\"cc\"}\n",
    "dropdown:register_observer(function(index)\n",
    "    --  use output widget to caputre prints   \n",
    "    output:captured(function()\n",
    "       print(\"index\", index)\n",
    "    end)\n",
    "end)\n",
    "\n",
    "display.display(dropdown, output)"
   ]
  },
  {
   "cell_type": "markdown",
   "id": "ca362331-bd0c-4203-9a6f-dc937d309297",
   "metadata": {},
   "source": [
    "Html\n",
    "======="
   ]
  },
  {
   "cell_type": "code",
   "execution_count": null,
   "id": "abc66753-53ba-4361-96a6-48cd9460c8e3",
   "metadata": {
    "tags": []
   },
   "outputs": [],
   "source": [
    "display = require(\"ilua.display\")\n",
    "widgets = require(\"ilua.widgets\")\n",
    "\n",
    "html = xhtml.new()\n",
    "src = [[\n",
    "<!DOCTYPE html>\n",
    "<html>\n",
    "    <head>\n",
    "    </head>\n",
    "    <body>\n",
    "        <h1>My First Page</h1>\n",
    "        <p>This is my first page.</p>\n",
    "        <h2>A secondary header.</h2>\n",
    "        <p>Some more text.</p>\n",
    "    </body>\n",
    "</html>\n",
    "]]\n",
    "html.value = src\n",
    "display.display(html)"
   ]
  },
  {
   "cell_type": "markdown",
   "id": "e8eeacfe-350a-4ecb-81a9-c8091af3c22e",
   "metadata": {
    "tags": []
   },
   "source": [
    "numeral\n",
    "========"
   ]
  },
  {
   "cell_type": "code",
   "execution_count": 3,
   "id": "9c177cfe-2613-43a3-a217-d93bc257420e",
   "metadata": {},
   "outputs": [
    {
     "data": {
      "application/vnd.jupyter.widget-view+json": {
       "model_id": "e92e61ffca424845a1987a5fbfc09fa0",
       "version_major": 2,
       "version_minor": 0
      },
      "text/plain": [
       "A Jupyter widget"
      ]
     },
     "metadata": {},
     "output_type": "display_data"
    },
    {
     "data": {
      "application/vnd.jupyter.widget-view+json": {
       "model_id": "a7974897a2f846f896f56e7a2ba6c47b",
       "version_major": 2,
       "version_minor": 0
      },
      "text/plain": [
       "A Jupyter widget"
      ]
     },
     "metadata": {},
     "output_type": "display_data"
    }
   ],
   "source": [
    "display = require(\"ilua.display\")\n",
    "widgets = require(\"ilua.widgets\")\n",
    "\n",
    "numeral = xnumeral.new()\n",
    "output = xoutput.new()\n",
    "numeral:register_observer(function(value)\n",
    "    --  use output widget to caputre prints   \n",
    "    output:captured(function()\n",
    "       print(\"value\", value)\n",
    "    end)\n",
    "end)\n",
    "\n",
    "display.display(numeral, output)"
   ]
  },
  {
   "cell_type": "markdown",
   "id": "9fede355-2e4f-48c9-b39b-1886e060ce8b",
   "metadata": {},
   "source": [
    "password\n",
    "========"
   ]
  },
  {
   "cell_type": "code",
   "execution_count": 4,
   "id": "455996cf-9b63-4d50-869a-0f479ab3daf4",
   "metadata": {},
   "outputs": [
    {
     "data": {
      "application/vnd.jupyter.widget-view+json": {
       "model_id": "c8ef91f2bbb2411991327a1ba091605b",
       "version_major": 2,
       "version_minor": 0
      },
      "text/plain": [
       "A Jupyter widget"
      ]
     },
     "metadata": {},
     "output_type": "display_data"
    },
    {
     "data": {
      "application/vnd.jupyter.widget-view+json": {
       "model_id": "bde47e58469744c299a5673cc5bed340",
       "version_major": 2,
       "version_minor": 0
      },
      "text/plain": [
       "A Jupyter widget"
      ]
     },
     "metadata": {},
     "output_type": "display_data"
    }
   ],
   "source": [
    "display = require(\"ilua.display\")\n",
    "widgets = require(\"ilua.widgets\")\n",
    "\n",
    "password = xpassword.new()\n",
    "output = xoutput.new()\n",
    "password:register_observer(function(value)\n",
    "    --  use output widget to caputre prints   \n",
    "    output:captured(function()\n",
    "       print(\"value\", value)\n",
    "    end)\n",
    "end)\n",
    "\n",
    "display.display(password, output)"
   ]
  },
  {
   "cell_type": "markdown",
   "id": "6306ce8e-37d3-4dbc-a8cf-955b2dfe684c",
   "metadata": {},
   "source": [
    "play\n",
    "====="
   ]
  },
  {
   "cell_type": "code",
   "execution_count": null,
   "id": "986147ab-c9de-4ad9-b8be-f65260dd815d",
   "metadata": {},
   "outputs": [],
   "source": [
    "display = require(\"ilua.display\")\n",
    "widgets = require(\"ilua.widgets\")\n",
    "\n",
    "play = xplay.new()\n",
    "play.interval = 1000\n",
    "output = xoutput.new()\n",
    "play:register_observer(function(value)\n",
    "    --  use output widget to caputre prints   \n",
    "    output:captured(function()\n",
    "       print(\"value\", value)\n",
    "    end)\n",
    "end)\n",
    "\n",
    "display.display(play, output)"
   ]
  },
  {
   "cell_type": "markdown",
   "id": "4e03ccf2-3a10-40d6-8273-168a91f3d9a7",
   "metadata": {},
   "source": [
    "progress\n",
    "========="
   ]
  },
  {
   "cell_type": "code",
   "execution_count": null,
   "id": "a4f194ee-0995-44f3-8636-b629bd5b65ba",
   "metadata": {},
   "outputs": [],
   "source": [
    "display = require(\"ilua.display\")\n",
    "widgets = require(\"ilua.widgets\")\n",
    "\n",
    "progress = xprogress.new()\n",
    "progress.value = 0\n",
    "\n",
    "play = xplay.new()\n",
    "play.interval = 100\n",
    "\n",
    "output = xoutput.new()\n",
    "progress:register_observer(function(value)\n",
    "    output:captured(function()\n",
    "    end)\n",
    "end)\n",
    "play:register_observer(function(value)\n",
    "    output:captured(function()\n",
    "       progress.value = value\n",
    "    end)\n",
    "end)\n",
    "display.display(play, progress, output)"
   ]
  },
  {
   "cell_type": "markdown",
   "id": "39714034-99f4-4f36-b50f-33aa3f71d2a6",
   "metadata": {},
   "source": [
    "Selection Slider\n",
    "================="
   ]
  },
  {
   "cell_type": "code",
   "execution_count": null,
   "id": "7f6aab9e-b3ce-4df9-83a6-94eb725aceb0",
   "metadata": {},
   "outputs": [],
   "source": [
    "display = require(\"ilua.display\")\n",
    "widgets = require(\"ilua.widgets\")\n",
    "\n",
    "selectionslider = xselectionslider.new()\n",
    "output = xoutput.new()\n",
    "selectionslider._options_labels = {\"aaa\", \"bb\",\"cc\"}\n",
    "selectionslider:register_observer(function(index)\n",
    "    --  use output widget to caputre prints   \n",
    "    output:captured(function()\n",
    "       print(\"index\", index)\n",
    "    end)\n",
    "end)\n",
    "\n",
    "display.display(selectionslider, output)"
   ]
  },
  {
   "cell_type": "markdown",
   "id": "45d72396-3fcc-421e-865e-487d93b333b8",
   "metadata": {},
   "source": [
    "Tab\n",
    "======"
   ]
  },
  {
   "cell_type": "code",
   "execution_count": 2,
   "id": "6d0684e8-62a2-4483-995a-70d7cc2783ac",
   "metadata": {},
   "outputs": [
    {
     "data": {
      "application/vnd.jupyter.widget-view+json": {
       "model_id": "2e52e1222c4d4feea8e3ee36fed79ade",
       "version_major": 2,
       "version_minor": 0
      },
      "text/plain": [
       "A Jupyter widget"
      ]
     },
     "metadata": {},
     "output_type": "display_data"
    },
    {
     "data": {
      "application/vnd.jupyter.widget-view+json": {
       "model_id": "428fd94483344863a87d222d01f69f1e",
       "version_major": 2,
       "version_minor": 0
      },
      "text/plain": [
       "A Jupyter widget"
      ]
     },
     "metadata": {},
     "output_type": "display_data"
    }
   ],
   "source": [
    "display = require(\"ilua.display\")\n",
    "widgets = require(\"ilua.widgets\")\n",
    "\n",
    "\n",
    "options = {}\n",
    "slider_a = xslider.new()\n",
    "slider_b = xslider.new()\n",
    "tab = xtab.new()\n",
    "tab._titles = {\"aaa\", \"bb\",\"cc\"}\n",
    "output = xoutput.new()\n",
    "\n",
    "tab:add(slider_a:id())\n",
    "tab:add(slider_b:id())\n",
    "\n",
    "\n",
    "tab:register_observer(function(index)\n",
    "    --  use output widget to caputre prints   \n",
    "    output:captured(function()\n",
    "       print(\"tab index\", index)\n",
    "    end)\n",
    "end)\n",
    "\n",
    "-- slider = widgets.slider({[\"continuous_update\"] = true})\n",
    "display.display(tab,output)\n",
    "\n"
   ]
  }
 ],
 "metadata": {
  "kernelspec": {
   "display_name": "Lua 0.12 (XLua)",
   "language": "lua",
   "name": "xlua"
  },
  "language_info": {
   "file_extension": ".lua",
   "mimetype": "text/x-luasrc",
   "name": "lua",
   "version": "14.0.0"
  }
 },
 "nbformat": 4,
 "nbformat_minor": 5
}
