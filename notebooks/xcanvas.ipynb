{
 "cells": [
  {
   "cell_type": "code",
   "execution_count": 39,
   "id": "b612bcb2-3679-4a3b-bce3-00bc3ca1d2e9",
   "metadata": {},
   "outputs": [],
   "source": [
    "-- some helper functions\n",
    "function rnd_color()\n",
    "    return ilua.canvas.color.rgb(\n",
    "        math.random(50, 200),\n",
    "        math.random(50, 200),\n",
    "        math.random(50, 200)\n",
    "    )\n",
    "end\n",
    "rnd = math.random"
   ]
  },
  {
   "cell_type": "code",
   "execution_count": 40,
   "id": "6e2eec80-a129-47de-a4d2-4e2c032fb5fa",
   "metadata": {},
   "outputs": [
    {
     "data": {
      "application/vnd.jupyter.widget-view+json": {
       "model_id": "90aabb1cd8cf401c96e65030e8e4cc2f",
       "version_major": 2,
       "version_minor": 0
      },
      "text/plain": [
       "A Jupyter widget"
      ]
     },
     "metadata": {},
     "output_type": "display_data"
    }
   ],
   "source": [
    "canvas = ilua.canvas.canvas({width=700, height=500})\n",
    "ilua.display.display(canvas)\n",
    "canvas:cache()\n",
    "canvas.shadow_offset_x = 1\n",
    "canvas.shadow_offset_y = 2\n",
    "canvas.shadow_blur = 2\n",
    "canvas.shadow_color = 'black'\n",
    "\n",
    "for var=1,10000 do\n",
    "    canvas.fill_style = rnd_color()\n",
    "    canvas:fill_circle(rnd(1,700), rnd(1,500), rnd(1,10))\n",
    "end\n",
    "canvas:flush()"
   ]
  },
  {
   "cell_type": "code",
   "execution_count": 43,
   "id": "5937ced8-33bb-4437-8645-f776b6878125",
   "metadata": {},
   "outputs": [
    {
     "data": {
      "application/vnd.jupyter.widget-view+json": {
       "model_id": "450633c4e117498aaf6f137093855f42",
       "version_major": 2,
       "version_minor": 0
      },
      "text/plain": [
       "A Jupyter widget"
      ]
     },
     "metadata": {},
     "output_type": "display_data"
    }
   ],
   "source": [
    "canvas = ilua.canvas.canvas({width=700, height=700})\n",
    "ilua.display.display(canvas)\n",
    "canvas:cache()\n",
    "\n",
    "for var=1,20 do\n",
    "    canvas:begin_path()\n",
    "    canvas:move_to(rnd(1, canvas.width), rnd(1, canvas.height))\n",
    "    for s=1,5 do\n",
    "        canvas:line_to(rnd(1,canvas.width), rnd(1, canvas.height))\n",
    "    end\n",
    "    canvas.fill_style = rnd_color()\n",
    "    canvas:fill(\"nonzero\")\n",
    "end\n",
    "canvas:flush()"
   ]
  },
  {
   "cell_type": "code",
   "execution_count": 44,
   "id": "316fd239-d38f-4f75-81c9-8cb5993532a1",
   "metadata": {},
   "outputs": [
    {
     "data": {
      "application/vnd.jupyter.widget-view+json": {
       "model_id": "6e9c5bc6c35f4b838ba95a9d16eee655",
       "version_major": 2,
       "version_minor": 0
      },
      "text/plain": [
       "A Jupyter widget"
      ]
     },
     "metadata": {},
     "output_type": "display_data"
    }
   ],
   "source": [
    "canvas = ilua.canvas.canvas({width=700, height=700})\n",
    "ilua.display.display(canvas)\n",
    "canvas:cache()\n",
    "canvas.line_width = 2\n",
    "for var=1,100 do\n",
    "    canvas:begin_path()\n",
    "    canvas:move_to(rnd(1,canvas.width), rnd(1, canvas.height))\n",
    "    for s=1,4 do\n",
    "        canvas:line_to(rnd(1,canvas.width), rnd(1, canvas.height))\n",
    "    end\n",
    "    canvas.stroke_style = rnd_color()\n",
    "    canvas:stroke()\n",
    "end\n",
    "canvas:flush()"
   ]
  }
 ],
 "metadata": {
  "kernelspec": {
   "display_name": "Lua  (XLua)",
   "language": "lua",
   "name": "xlua"
  },
  "language_info": {
   "file_extension": ".lua",
   "mimetype": "text/x-luasrc",
   "name": "lua",
   "version": "14.0.0"
  }
 },
 "nbformat": 4,
 "nbformat_minor": 5
}
