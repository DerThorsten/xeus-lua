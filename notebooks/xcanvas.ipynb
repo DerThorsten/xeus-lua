{
 "cells": [
  {
   "cell_type": "code",
   "execution_count": null,
   "id": "9b86cdf4-5697-414d-85e4-4f574b567839",
   "metadata": {},
   "outputs": [],
   "source": [
    "canvas = ilua.canvas.detail.xcanvas.new()\n",
    "canvas.width = 700\n",
    "canvas.height = 500\n",
    "canvas:display()"
   ]
  },
  {
   "cell_type": "code",
   "execution_count": null,
   "id": "6e2eec80-a129-47de-a4d2-4e2c032fb5fa",
   "metadata": {},
   "outputs": [],
   "source": [
    "canvas:cache()\n",
    "canvas.shadow_offset_x = 1\n",
    "canvas.shadow_offset_y = 2\n",
    "canvas.shadow_blur = 2\n",
    "canvas.shadow_color = 'black'\n",
    "for var=2,10000\n",
    "do\n",
    "    canvas.fill_style = \"rgb(\" .. \n",
    "        tostring(math.random(50, 200)) .. \", \" .. \n",
    "    tostring(math.random(50, 200)) .. \", \" .. tostring(math.random(50, 200)) .. \")\"\n",
    "    canvas:fill_circle(math.random(1,700),math.random(1,500),math.random(1,10))\n",
    "end\n",
    "canvas:flush()"
   ]
  }
 ],
 "metadata": {
  "kernelspec": {
   "display_name": "Lua  (XLua)",
   "language": "lua",
   "name": "xlua"
  },
  "language_info": {
   "file_extension": ".lua",
   "mimetype": "text/x-luasrc",
   "name": "lua",
   "version": "14.0.0"
  }
 },
 "nbformat": 4,
 "nbformat_minor": 5
}
