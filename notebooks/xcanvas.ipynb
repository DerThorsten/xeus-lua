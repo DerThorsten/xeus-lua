{
 "cells": [
  {
   "cell_type": "code",
   "execution_count": 4,
   "id": "9b86cdf4-5697-414d-85e4-4f574b567839",
   "metadata": {},
   "outputs": [
    {
     "data": {
      "application/vnd.jupyter.widget-view+json": {
       "model_id": "8258dac3502840fda30fede5313b973c",
       "version_major": 2,
       "version_minor": 0
      },
      "text/plain": [
       "A Jupyter widget"
      ]
     },
     "metadata": {},
     "output_type": "display_data"
    }
   ],
   "source": [
    "canvas = ilua.canvas.canvas({width=100, height=200})\n",
    "canvas:display()\n",
    "for var=2,100\n",
    "do\n",
    "   canvas:fill_circle(math.random(1,1000),math.random(1,1000),math.random(1,10))\n",
    "end\n",
    "for var=2,100\n",
    "do\n",
    "    canvas:fill_rect(math.random(1,1000),math.random(1,1000),math.random(3,10),math.random(3,10))\n",
    "end"
   ]
  },
  {
   "cell_type": "code",
   "execution_count": 6,
   "id": "6e2eec80-a129-47de-a4d2-4e2c032fb5fa",
   "metadata": {},
   "outputs": [],
   "source": []
  },
  {
   "cell_type": "code",
   "execution_count": 7,
   "id": "2ebbd58e-57c7-401b-bf97-9aa81709818c",
   "metadata": {},
   "outputs": [],
   "source": [
    "\n"
   ]
  }
 ],
 "metadata": {
  "kernelspec": {
   "display_name": "Lua  (XLua)",
   "language": "lua",
   "name": "xlua"
  },
  "language_info": {
   "file_extension": ".lua",
   "mimetype": "text/x-luasrc",
   "name": "lua",
   "version": "14.0.0"
  }
 },
 "nbformat": 4,
 "nbformat_minor": 5
}
