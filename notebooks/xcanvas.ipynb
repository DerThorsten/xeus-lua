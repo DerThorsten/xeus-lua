{
 "cells": [
  {
   "cell_type": "code",
   "execution_count": null,
   "id": "bdf5a4ef-5445-4ca6-8e8e-045af3620296",
   "metadata": {},
   "outputs": [
    {
     "data": {
      "application/vnd.jupyter.widget-view+json": {
       "model_id": "0203c85368414fe4a22e68c19528f5ea",
       "version_major": 2,
       "version_minor": 0
      },
      "text/plain": [
       "A Jupyter widget"
      ]
     },
     "metadata": {},
     "output_type": "display_data"
    }
   ],
   "source": [
    "canvas = ilua.canvas.detail.xcanvas.new()\n",
    "canvas:display()\n",
    "for var=2,100\n",
    "do\n",
    "   canvas:fill_circle(math.random(1,1000),math.random(1,1000),math.random(1,10))\n",
    "end\n"
   ]
  }
 ],
 "metadata": {
  "kernelspec": {
   "display_name": "Lua  (XLua)",
   "language": "lua",
   "name": "xlua"
  },
  "language_info": {
   "file_extension": ".lua",
   "mimetype": "text/x-luasrc",
   "name": "lua",
   "version": "14.0.0"
  }
 },
 "nbformat": 4,
 "nbformat_minor": 5
}
