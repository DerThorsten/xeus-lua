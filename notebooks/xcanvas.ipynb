{
 "cells": [
  {
   "cell_type": "code",
   "execution_count": 1,
   "id": "9b86cdf4-5697-414d-85e4-4f574b567839",
   "metadata": {},
   "outputs": [
    {
     "data": {
      "application/vnd.jupyter.widget-view+json": {
       "model_id": "6df25c8ccadf413baa10b2fb6d37755d",
       "version_major": 2,
       "version_minor": 0
      },
      "text/plain": [
       "A Jupyter widget"
      ]
     },
     "metadata": {},
     "output_type": "display_data"
    }
   ],
   "source": [
    "canvas = ilua.canvas.canvas({width=700, height=500})\n",
    "canvas:display()"
   ]
  },
  {
   "cell_type": "code",
   "execution_count": 3,
   "id": "6e2eec80-a129-47de-a4d2-4e2c032fb5fa",
   "metadata": {},
   "outputs": [],
   "source": [
    "canvas:cache()\n",
    "canvas.shadow_offset_x = 1\n",
    "canvas.shadow_offset_y = 2\n",
    "canvas.shadow_blur = 2\n",
    "canvas.shadow_color = 'black'\n",
    "\n",
    "rnd = math.random\n",
    "\n",
    "for var=2,10000\n",
    "do\n",
    "    local color =  ilua.canvas.rgb(\n",
    "        rnd(50, 200),\n",
    "        rnd(50, 200),\n",
    "        rnd(50, 200)\n",
    "    )\n",
    "    canvas.fill_style = color\n",
    "    canvas:fill_circle(rnd(1,700), rnd(1,500), rnd(1,10))\n",
    "end\n",
    "canvas:flush()"
   ]
  }
 ],
 "metadata": {
  "kernelspec": {
   "display_name": "Lua  (XLua)",
   "language": "lua",
   "name": "xlua"
  },
  "language_info": {
   "file_extension": ".lua",
   "mimetype": "text/x-luasrc",
   "name": "lua",
   "version": "14.0.0"
  }
 },
 "nbformat": 4,
 "nbformat_minor": 5
}
