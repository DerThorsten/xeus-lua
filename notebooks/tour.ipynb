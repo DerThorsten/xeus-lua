{
 "cells": [
  {
   "cell_type": "markdown",
   "id": "0bf4a8f3-ad21-4dea-aca2-8e448f5e2eed",
   "metadata": {},
   "source": [
    "# Printing\n",
    "\n",
    "the way the printing is done can be configured.\n",
    "By default we use a pretty printer different from the default print"
   ]
  },
  {
   "cell_type": "code",
   "execution_count": 19,
   "id": "3be94106-f52e-4b46-80e3-0faf1b817629",
   "metadata": {},
   "outputs": [
    {
     "name": "stream",
     "output_type": "stream",
     "text": [
      "print pretty: \n",
      "{ \n",
      "  table_key = 1 \n",
      "} \n",
      "\n",
      "print default: \n",
      "print default table: 0x55bb7d2e1560 \n",
      "\n",
      "print pretty again: \n",
      "a_table \n"
     ]
    }
   ],
   "source": [
    "-- by default we use a nice pretty-printer\n",
    "print(\"print pretty:\")\n",
    "a_table = {table_key=1}\n",
    "print(a_table)\n",
    "\n",
    "--to use luas default \n",
    "print(\"\\nprint default:\")\n",
    "ilua.config.printer = \"lua\"\n",
    "print(\"print default\", a_table)\n",
    "\n",
    "--to use pretty printer again\n",
    "print(\"\\nprint pretty again:\")\n",
    "ilua.config.printer = \"pprint\"\n",
    "print(\"a_table\")"
   ]
  },
  {
   "cell_type": "markdown",
   "id": "5b0cd1ff-e474-499c-bba0-919b968e9009",
   "metadata": {
    "tags": []
   },
   "source": [
    "## Auto printing\n",
    "a cell with a single variable is auto printed  using print"
   ]
  },
  {
   "cell_type": "code",
   "execution_count": 17,
   "id": "b67aba32-caaf-4186-b25a-da5fffae3759",
   "metadata": {},
   "outputs": [
    {
     "name": "stream",
     "output_type": "stream",
     "text": [
      "{ 1, 2, 3 } \n"
     ]
    }
   ],
   "source": [
    "{1,2,3}"
   ]
  },
  {
   "cell_type": "markdown",
   "id": "7aab470e-d152-48df-97a1-51d020055f73",
   "metadata": {
    "tags": []
   },
   "source": [
    "# Widgets\n"
   ]
  },
  {
   "cell_type": "markdown",
   "id": "e7aab432-11df-4863-8865-52563e34e1fc",
   "metadata": {
    "jp-MarkdownHeadingCollapsed": true,
    "tags": []
   },
   "source": [
    "# Issues\n"
   ]
  }
 ],
 "metadata": {
  "kernelspec": {
   "display_name": "Lua 0.2 (XLua)",
   "language": "lua",
   "name": "xlua"
  },
  "language_info": {
   "file_extension": ".lua",
   "mimetype": "text/x-luasrc",
   "name": "lua",
   "version": "14.0.0"
  }
 },
 "nbformat": 4,
 "nbformat_minor": 5
}
